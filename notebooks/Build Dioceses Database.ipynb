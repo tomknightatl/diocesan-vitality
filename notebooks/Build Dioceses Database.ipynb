{
  "nbformat": 4,
  "nbformat_minor": 0,
  "metadata": {
    "colab": {
      "provenance": [],
      "include_colab_link": true
    },
    "kernelspec": {
      "name": "python3",
      "display_name": "Python 3"
    },
    "language_info": {
      "name": "python"
    }
  },
  "cells": [
    {
      "cell_type": "markdown",
      "metadata": {
        "id": "view-in-github",
        "colab_type": "text"
      },
      "source": [
        "<a href=\"https://colab.research.google.com/github/tomknightatl/USCCB/blob/main/Build%20Dioceses%20Database.ipynb\" target=\"_parent\"><img src=\"https://colab.research.google.com/assets/colab-badge.svg\" alt=\"Open In Colab\"/></a>"
      ]
    },
    {
      "cell_type": "code",
      "execution_count": null,
      "metadata": {
        "id": "pip-install-supabase-cell"
      },
      "outputs": [],
      "source": [
        "!pip install supabase"
      ]
    },
    {
      "cell_type": "code",
      "execution_count": null,
      "metadata": {
        "id": "supabase-init-cell"
      },
      "outputs": [],
      "source": [
        "# Cell for Supabase client initialization using Google Colab secrets\n",
        "from supabase import create_client, Client\n",
        "from google.colab import userdata\n",
        "\n",
        "# Access secrets from Google Colab's userdata\n",
        "try:\n",
        "    supabase_url = userdata.get('SUPABASE_URL')\n",
        "    supabase_key = userdata.get('SUPABASE_KEY')\n",
        "\n",
        "    # Initialize Supabase client\n",
        "    supabase: Client = create_client(supabase_url, supabase_key)\n",
        "    print(\"✅ Successfully initialized Supabase client using Colab secrets.\")\n",
        "\n",
        "    # Optional: Test the connection with a simple query\n",
        "    # Uncomment the lines below if you want to test the connection\n",
        "    # try:\n",
        "    #     result = supabase.table('your_table_name').select('*').limit(1).execute()\n",
        "    #     print(\"✅ Connection test successful!\")\n",
        "    # except Exception as test_error:\n",
        "    #     print(f\"⚠️  Connection test failed: {test_error}\")\n",
        "\n",
        "except Exception as e:\n",
        "    print(f\"❌ Error accessing Colab secrets or initializing Supabase client: {e}\")\n",
        "    print(\"\\n📝 To fix this:\")\n",
        "    print(\"1. Click the 🔑 key icon in the left sidebar of Colab\")\n",
        "    print(\"2. Add a new secret with name: SUPABASE_URL\")\n",
        "    print(\"3. Add another secret with name: SUPABASE_KEY\")\n",
        "    print(\"4. Make sure to enable notebook access for both secrets\")\n",
        "    print(\"5. Re-run this cell\")\n",
        "\n",
        "    # Set supabase to None so other code can check if initialization was successful\n",
        "    supabase = None"
      ]
    },
    {
      "cell_type": "code",
      "execution_count": null,
      "metadata": {
        "id": "hhF7zOWbH9fN"
      },
      "outputs": [],
      "source": [
        "# Cell 1: Import necessary libraries\n",
        "\n",
        "import requests\n",
        "from bs4 import BeautifulSoup\n",
        "import pandas as pd\n",
        "import os\n",
        "import re\n",
        "from urllib.parse import urljoin, urlparse\n",
        "import time\n",
        "import logging\n",
        "\n",
        "# Configure logging\n",
        "logging.basicConfig(\n",
        "    level=logging.INFO,\n",
        "    format='%(asctime)s - %(levelname)s - %(message)s',\n",
        "    handlers=[\n",
        "        logging.FileHandler(\"scraping.log\"),\n",
        "        logging.StreamHandler()\n",
        "    ]\n",
        ")"
      ]
    },
    {
      "cell_type": "code",
      "source": [
        "# Cell 3: Define helper functions\n",
        "\n",
        "def get_soup(url, retries=3, backoff_factor=1.0):\n",
        "    \"\"\"\n",
        "    Fetches the content at the given URL and returns a BeautifulSoup object.\n",
        "    Implements retries with exponential backoff in case of request failures.\n",
        "    \"\"\"\n",
        "    headers = {\n",
        "        'User-Agent': ('Mozilla/5.0 (Windows NT 10.0; Win64; x64) '\n",
        "                       'AppleWebKit/537.36 (KHTML, like Gecko) '\n",
        "                       'Chrome/58.0.3029.110 Safari/537.3'),\n",
        "        'Accept-Language': 'en-US,en;q=0.9',\n",
        "        'Accept-Encoding': 'gzip, deflate',\n",
        "        'Connection': 'keep-alive'\n",
        "    }\n",
        "\n",
        "    for attempt in range(1, retries + 1):\n",
        "        try:\n",
        "            logging.info(f\"Attempt {attempt}: Fetching URL: {url}\")\n",
        "            response = requests.get(url, headers=headers, timeout=20)\n",
        "            logging.info(f\"Received status code: {response.status_code}\")\n",
        "            response.raise_for_status()\n",
        "            return BeautifulSoup(response.text, 'html.parser')\n",
        "        except requests.RequestException as e:\n",
        "            logging.warning(f\"Attempt {attempt} failed with error: {e}\")\n",
        "            if attempt == retries:\n",
        "                logging.error(f\"All {retries} attempts failed for URL: {url}\")\n",
        "                return None\n",
        "            sleep_time = backoff_factor * (2 ** (attempt - 1))\n",
        "            logging.info(f\"Retrying in {sleep_time} seconds...\")\n",
        "            time.sleep(sleep_time)\n",
        "\n",
        "def extract_dioceses(soup):\n",
        "    \"\"\"\n",
        "    Extracts dioceses information from the parsed HTML.\n",
        "    Returns a list of dictionaries with diocese details.\n",
        "    \"\"\"\n",
        "    dioceses = []\n",
        "    diocese_containers = soup.find_all('div', class_='views-row')\n",
        "\n",
        "    logging.info(f\"Found {len(diocese_containers)} potential diocese containers\")\n",
        "\n",
        "    for i, container in enumerate(diocese_containers):\n",
        "        logging.info(f\"Processing container {i+1}\")\n",
        "\n",
        "        da_wrap = container.find('div', class_='da-wrap')\n",
        "        if not da_wrap:\n",
        "            logging.warning(f\"No da-wrap found in container {i+1}\")\n",
        "            continue\n",
        "\n",
        "        name_div = da_wrap.find('div', class_='da-title')\n",
        "        diocese_name = name_div.get_text(strip=True) if name_div else \"N/A\"\n",
        "        logging.info(f\"Diocese name: {diocese_name}\")\n",
        "\n",
        "        address_div = da_wrap.find('div', class_='da-address')\n",
        "        address_parts = []\n",
        "        if address_div:\n",
        "            for div in address_div.find_all('div', recursive=False):\n",
        "                text = div.get_text(strip=True)\n",
        "                if text:\n",
        "                    address_parts.append(text)\n",
        "\n",
        "        address = \", \".join(address_parts)\n",
        "        logging.info(f\"Address: {address}\")\n",
        "\n",
        "        website_div = da_wrap.find('div', class_='site')\n",
        "        website_url = website_div.find('a')['href'] if website_div and website_div.find('a') else \"N/A\"\n",
        "        logging.info(f\"Website: {website_url}\")\n",
        "\n",
        "        dioceses.append({\n",
        "            'Name': diocese_name,\n",
        "            'Address': address,\n",
        "            'Website': website_url\n",
        "        })\n",
        "\n",
        "    return dioceses"
      ],
      "metadata": {
        "id": "a7yOnNETIInL"
      },
      "execution_count": null,
      "outputs": []
    },
    {
      "cell_type": "code",
      "source": [
        "# Cell 4: Fetch and parse the HTML content from URL\n",
        "\n",
        "url = \"https://www.usccb.org/about/bishops-and-dioceses/all-dioceses\"\n",
        "soup = get_soup(url)\n",
        "\n",
        "if soup:\n",
        "    print(\"Successfully fetched and parsed the dioceses page.\")\n",
        "    # Print the first 1000 characters of the HTML to check its structure\n",
        "    print(\"First 1000 characters of the HTML:\")\n",
        "    print(soup.prettify()[:1000])\n",
        "else:\n",
        "    print(\"Failed to fetch the dioceses page. Please check your connection or the URL.\")\n",
        "    exit()"
      ],
      "metadata": {
        "id": "H78OsQfwLvUG"
      },
      "execution_count": null,
      "outputs": []
    },
    {
      "cell_type": "code",
      "source": [
        "# Cell 5: Extract dioceses information\n",
        "\n",
        "dioceses = extract_dioceses(soup)\n",
        "print(f\"Extracted information for {len(dioceses)} dioceses.\")\n",
        "\n",
        "if len(dioceses) == 0:\n",
        "    print(\"No dioceses were extracted. Printing the structure of the page:\")\n",
        "    print(soup.prettify())"
      ],
      "metadata": {
        "id": "_Ve1ydjDIKpV"
      },
      "execution_count": null,
      "outputs": []
    },
    {
      "cell_type": "code",
      "source": [
        "# Cell 6: Create a DataFrame and display results\n",
        "\n",
        "dioceses_df = pd.DataFrame(dioceses)\n",
        "print(dioceses_df.head())"
      ],
      "metadata": {
        "id": "6peqWCFhIMZz"
      },
      "execution_count": null,
      "outputs": []
    },
    {
      "cell_type": "code",
      "source": [
        "# Debug your DataFrame first\n",
        "print(\"DataFrame info:\")\n",
        "print(\"Columns:\", dioceses_df.columns.tolist())\n",
        "print(\"Shape:\", dioceses_df.shape)\n",
        "print(\"Data types:\")\n",
        "print(dioceses_df.dtypes)\n",
        "print(\"\\nFirst few rows:\")\n",
        "print(dioceses_df.head())\n",
        "\n",
        "# Convert DataFrame to list of dictionaries (correct format for Supabase)\n",
        "try:\n",
        "    # Method 1: Insert all rows at once (recommended for smaller datasets)\n",
        "    data_to_insert = dioceses_df.to_dict('records')  # Convert DataFrame to list of dicts\n",
        "\n",
        "    print(f\"\\nAttempting to insert {len(data_to_insert)} rows...\")\n",
        "    print(\"Sample record:\", data_to_insert[0] if data_to_insert else \"No data\")\n",
        "\n",
        "    # Insert all data at once\n",
        "    result = supabase.table('Dioceses').insert(data_to_insert).execute()\n",
        "\n",
        "    if result.data:\n",
        "        print(f\"✅ Successfully inserted {len(result.data)} rows!\")\n",
        "    else:\n",
        "        print(\"❌ Insert returned no data\")\n",
        "\n",
        "except Exception as e:\n",
        "    print(f\"❌ Bulk insert failed: {e}\")\n",
        "    print(\"\\nTrying row-by-row insert for better error details...\")"
      ],
      "metadata": {
        "id": "E6-USqlODJeY"
      },
      "execution_count": null,
      "outputs": []
    }
  ]
}